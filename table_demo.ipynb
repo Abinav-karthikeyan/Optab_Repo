{
 "cells": [
  {
   "cell_type": "code",
   "execution_count": 42,
   "metadata": {},
   "outputs": [],
   "source": [
    "import pandas as pd\n",
    "import boto3\n",
    "import logging\n",
    "from botocore.exceptions import ClientError\n",
    "import os\n",
    "from pprint import pprint\n",
    "\n",
    "\n",
    "s3_client = boto3.client('s3',region_name='us-east-2')\n",
    "textract = boto3.client('textract', region_name='us-east-2')\n",
    "\n",
    "   "
   ]
  },
  {
   "cell_type": "code",
   "execution_count": null,
   "metadata": {},
   "outputs": [],
   "source": []
  },
  {
   "cell_type": "code",
   "execution_count": 4,
   "metadata": {},
   "outputs": [],
   "source": [
    "def create_bucket(bucket_name, region=None):\n",
    "    try:\n",
    "        if region is None:\n",
    "            s3_client = boto3.client('s3')\n",
    "            s3_client.create_bucket(Bucket=bucket_name)\n",
    "        else:\n",
    "            s3_client = boto3.client('s3', region_name=region)\n",
    "            location = {'LocationConstraint': region}\n",
    "            s3_client.create_bucket(Bucket=bucket_name,\n",
    "                                    CreateBucketConfiguration=location)\n",
    "    except ClientError as e:\n",
    "        logging.error(e)\n",
    "        return False\n",
    "    return True"
   ]
  },
  {
   "cell_type": "code",
   "execution_count": 13,
   "metadata": {},
   "outputs": [
    {
     "data": {
      "text/plain": [
       "True"
      ]
     },
     "execution_count": 13,
     "metadata": {},
     "output_type": "execute_result"
    }
   ],
   "source": [
    "create_bucket('textract-ocr-2021', \"us-east-2\")"
   ]
  },
  {
   "cell_type": "code",
   "execution_count": 5,
   "metadata": {},
   "outputs": [],
   "source": [
    "def upload_file(file_name, bucket, object_name=None):\n",
    "\n",
    "    if object_name is None:\n",
    "        object_name = os.path.basename(file_name)\n",
    "    \n",
    "    try:\n",
    "        response = s3_client.upload_file(file_name, bucket, object_name)\n",
    "        \n",
    "    except ClientError as e:\n",
    "        logging.error(e)\n",
    "        return False\n",
    "    \n",
    "    return True"
   ]
  },
  {
   "cell_type": "code",
   "execution_count": 6,
   "metadata": {},
   "outputs": [],
   "source": [
    "def extract_table(file_name, bucket):\n",
    "    \n",
    "    response = textract.start_document_analysis(\n",
    "        DocumentLocation={\n",
    "            'S3Object': {\n",
    "                'Bucket': bucket,\n",
    "                'Name': file_name\n",
    "            }\n",
    "        },\n",
    "        FeatureTypes=[\"TABLES\"]\n",
    "    )\n",
    "    \n",
    "    \n",
    "    blocks=response['Blocks']\n",
    "    blocks_map = {}\n",
    "    table_blocks = []\n",
    "    \n",
    "    for block in blocks:\n",
    "        blocks_map[block['Id']] = block\n",
    "        if block['BlockType'] == \"TABLE\":\n",
    "            table_blocks.append(block)\n",
    "            \n",
    "    if len(table_blocks) <= 0:\n",
    "        return \"NO TABLE FOUND\"\n",
    "    \n",
    "    return table_blocks"
   ]
  },
  {
   "cell_type": "code",
   "execution_count": 7,
   "metadata": {},
   "outputs": [
    {
     "name": "stdout",
     "output_type": "stream",
     "text": [
      "Existing buckets:\n",
      "  textract-console-us-east-2-ae857a57-435c-46de-ba4c-fa07598fd9d5\n"
     ]
    }
   ],
   "source": [
    "response = s3_client.list_buckets()\n",
    "\n",
    "# Output the bucket names\n",
    "print('Existing buckets:')\n",
    "for bucket in response['Buckets']:\n",
    "    print(f'  {bucket[\"Name\"]}')"
   ]
  },
  {
   "cell_type": "code",
   "execution_count": 8,
   "metadata": {},
   "outputs": [
    {
     "data": {
      "text/plain": [
       "True"
      ]
     },
     "execution_count": 8,
     "metadata": {},
     "output_type": "execute_result"
    }
   ],
   "source": [
    "upload_file('C:\\\\Users\\\\abhin\\\\OneDrive\\\\Documents\\\\Optab\\\\Data\\\\demo.pdf', 'textract-console-us-east-2-ae857a57-435c-46de-ba4c-fa07598fd9d5')"
   ]
  },
  {
   "cell_type": "code",
   "execution_count": 14,
   "metadata": {},
   "outputs": [
    {
     "data": {
      "text/plain": [
       "True"
      ]
     },
     "execution_count": 14,
     "metadata": {},
     "output_type": "execute_result"
    }
   ],
   "source": [
    "upload_file('C:\\\\Users\\\\abhin\\\\OneDrive\\\\Documents\\\\Optab\\\\Data\\\\demo.pdf', 'textract-ocr-2021')"
   ]
  },
  {
   "cell_type": "code",
   "execution_count": 71,
   "metadata": {},
   "outputs": [],
   "source": [
    "\n",
    "def extract_table_blocks(bucket, file_name):\n",
    "    response = textract.analyze_document(\n",
    "        Document={\n",
    "            'S3Object': {\n",
    "                'Bucket': bucket,\n",
    "                'Name': file_name\n",
    "            }\n",
    "        },\n",
    "        FeatureTypes=[\"TABLES\"]\n",
    "    )\n",
    "    \n",
    "    return response\n",
    "    \n"
   ]
  },
  {
   "cell_type": "code",
   "execution_count": 68,
   "metadata": {},
   "outputs": [],
   "source": [
    "def get_rows_columns_map(table_result, blocks_map):\n",
    "    rows = {}\n",
    "    scores = []\n",
    "    for relationship in table_result['Relationships']:\n",
    "        if relationship['Type'] == 'CHILD':\n",
    "            for child_id in relationship['Ids']:\n",
    "                cell = blocks_map[child_id]\n",
    "                if cell['BlockType'] == 'CELL':\n",
    "                    row_index = cell['RowIndex']\n",
    "                    col_index = cell['ColumnIndex']\n",
    "                    if row_index not in rows:\n",
    "                        # create new row\n",
    "                        rows[row_index] = {}\n",
    "                    \n",
    "                    # get confidence score\n",
    "                    scores.append(str(cell['Confidence']))\n",
    "                        \n",
    "                    # get the text value\n",
    "                    rows[row_index][col_index] = get_text(cell, blocks_map)\n",
    "                    \n",
    "    return rows, scores"
   ]
  },
  {
   "cell_type": "code",
   "execution_count": 55,
   "metadata": {},
   "outputs": [],
   "source": [
    "def get_text(result, blocks_map):\n",
    "    text = ''\n",
    "    if 'Relationships' in result:\n",
    "        for relationship in result['Relationships']:\n",
    "            if relationship['Type'] == 'CHILD':\n",
    "                for child_id in relationship['Ids']:\n",
    "                    word = blocks_map[child_id]\n",
    "                    if word['BlockType'] == 'WORD':\n",
    "                        if \",\" in word['Text'] and word['Text'].replace(\",\", \"\").isnumeric():\n",
    "                            text += '\"' + word['Text'] + '\"' + ' '\n",
    "                        else:\n",
    "                            text += word['Text'] + ' '\n",
    "                    if word['BlockType'] == 'SELECTION_ELEMENT':\n",
    "                        if word['SelectionStatus'] =='SELECTED':\n",
    "                            text +=  'X '\n",
    "    return text"
   ]
  },
  {
   "cell_type": "code",
   "execution_count": 72,
   "metadata": {},
   "outputs": [
    {
     "name": "stdout",
     "output_type": "stream",
     "text": [
      "{1: {1: 'Item ', 2: 'Quantity ', 3: 'Unit ', 4: 'Description ', 5: 'Transaction Date ', 6: 'Unit Excluding VAT ', 7: 'TOTAL EXCLUDING VAT ', 8: 'VAT ', 9: 'Total Including VAT ', 10: 'VAT CODE '}, 2: {1: '40043 ', 2: '4 ', 3: 'Hours ', 4: 'Mechanical Engineer ', 5: '23 Feb 24 ', 6: '€140.00 ', 7: '€560.00 ', 8: '€128.80 ', 9: '€688.80 ', 10: 'IRE '}, 3: {1: '40043 ', 2: '0 ', 3: 'Hours ', 4: 'Mechanical Engineer ', 5: '24 Feb 24 ', 6: '€160.00 ', 7: '€0.00 ', 8: '€0.00 ', 9: '€0.00 ', 10: 'IRE '}, 4: {1: '40043 ', 2: '0 ', 3: 'Hours ', 4: 'Mechanical Engineer ', 5: '25 Feb 24 ', 6: '€106.00 ', 7: '€0.00 ', 8: '€0.00 ', 9: '€0.00 ', 10: 'IRE '}, 5: {1: '40043 ', 2: '5 ', 3: 'Hours ', 4: 'Mechanical Engineer ', 5: '26 Feb 24 ', 6: '€139.00 ', 7: '€695.00 ', 8: '€159.85 ', 9: '€854.85 ', 10: 'IRE '}, 6: {1: '40043 ', 2: '5 ', 3: 'Hours ', 4: 'Mechanical Engineer ', 5: '27 Feb 24 ', 6: '€159.00 ', 7: '€795.00 ', 8: '€182.85 ', 9: '€977.85 ', 10: 'IRE '}, 7: {1: '40043 ', 2: '2 ', 3: 'Hours ', 4: 'Mechanical Engineer ', 5: '28 Feb 24 ', 6: '€155.00 ', 7: '€310.00 ', 8: '€71.30 ', 9: '€381.30 ', 10: 'IRE '}, 8: {1: '40043 ', 2: '5 ', 3: 'Hours ', 4: 'Mechanical Engineer ', 5: '29 Feb 24 ', 6: '€162.00 ', 7: '€810.00 ', 8: '€186.30 ', 9: '€996.30 ', 10: 'IRE '}, 9: {1: '40043 ', 2: '4 ', 3: 'Hours ', 4: 'Mechanical Engineer ', 5: '1 Mar 24 ', 6: '€162.00 ', 7: '€648.00 ', 8: '€149.04 ', 9: '€797.04 ', 10: 'IRE '}, 10: {1: '40043 ', 2: '0 ', 3: 'Hours ', 4: 'Mechanical Engineer ', 5: '2 24 ', 6: '€154.00 ', 7: '€0.00 ', 8: '€0.00 ', 9: '€0.00 ', 10: 'IRE '}, 11: {1: '40043 ', 2: '0 ', 3: 'Hours ', 4: 'Mechanical Engineer ', 5: '3 Mar 24 ', 6: '€113.00 ', 7: '€0.00 ', 8: '€0.00 ', 9: '€0.00 ', 10: 'IRE '}, 12: {1: '40043 ', 2: '3 ', 3: 'Hours ', 4: 'Mechanical Engineer ', 5: '4 Mar 24 ', 6: '€146.00 ', 7: '€438.00 ', 8: '€100.74 ', 9: '€538.74 ', 10: 'IRE '}, 13: {1: '40043 ', 2: '7 ', 3: 'Hours ', 4: 'Mechanical Engineer ', 5: '5 Mar 24 ', 6: '€115.00 ', 7: '€805.00 ', 8: '€185.15 ', 9: '€990.15 ', 10: 'IRE '}, 14: {1: '40043 ', 2: '10 ', 3: 'Hours ', 4: 'Mechanical Engineer ', 5: '6 Mar 24 ', 6: '€133.00 ', 7: '€1,330.00 ', 8: '€305.90 ', 9: '€1,635.90 ', 10: 'IRE '}, 15: {1: '40043 ', 2: '2 ', 3: 'Hours ', 4: 'Mechanical Engineer ', 5: '7 Mar 24 ', 6: '€106.00 ', 7: '€212.00 ', 8: '€48.76 ', 9: '€260.76 ', 10: 'IRE '}, 16: {1: '40043 ', 2: '10 ', 3: 'Hours ', 4: 'Mechanical Engineer ', 5: '8 Mar 24 ', 6: '€132.00 ', 7: '€1,320.00 ', 8: '€303.60 ', 9: '€1,623.60 ', 10: 'IRE '}, 17: {1: '40043 ', 2: '0 ', 3: 'Hours ', 4: 'Mechanical Engineer ', 5: '9 Mar 24 ', 6: '€165.00 ', 7: '€0.00 ', 8: '€0.00 ', 9: '€0.00 ', 10: 'IRE '}, 18: {1: '40043 ', 2: '0 ', 3: 'Hours ', 4: 'Mechanical Engineer ', 5: '10 Mar 24 ', 6: '€165.00 ', 7: '€0.00 ', 8: '€0.00 ', 9: '€0.00 ', 10: 'IRE '}, 19: {1: '40043 ', 2: '6 ', 3: 'Hours ', 4: 'Mechanical Engineer ', 5: '11 Mar 24 ', 6: '€126.00 ', 7: '€756.00 ', 8: '€173.88 ', 9: '€929.88 ', 10: 'IRE '}, 20: {1: '40043 ', 2: '9 ', 3: 'Hours ', 4: 'Mechanical Engineer ', 5: '12 Mar 24 ', 6: '€118.00 ', 7: '€1,062.00 ', 8: '€244.26 ', 9: '€1,306.26 ', 10: 'IRE '}, 21: {1: '40043 ', 2: '5 ', 3: 'Hours ', 4: 'Mechanical Engineer ', 5: '13 Mar 24 ', 6: '€180.00 ', 7: '€900.00 ', 8: '€207.00 ', 9: '€1,107.00 ', 10: 'IRE '}, 22: {1: '40043 ', 2: '10 ', 3: 'Hours ', 4: 'Mechanical Engineer ', 5: '14 Mar 24 ', 6: '€163.00 ', 7: '€1,630.00 ', 8: '€374.90 ', 9: '€2,004.90 ', 10: 'IRE '}, 23: {1: '40043 ', 2: '8 ', 3: 'Hours ', 4: 'Mechanical Engineer ', 5: '15 Mar 24 ', 6: '€136.00 ', 7: '€1,088.00 ', 8: '€250.24 ', 9: '€1,338.24 ', 10: 'IRE '}, 24: {1: '40043 ', 2: '0 ', 3: 'Hours ', 4: 'Mechanical Engineer ', 5: '16 Mar 24 ', 6: '€164.00 ', 7: '€0.00 ', 8: '€0.00 ', 9: '€0.00 ', 10: 'IRE '}, 25: {1: '40043 ', 2: '0 ', 3: 'Hours ', 4: 'Mechanical Engineer ', 5: '17 Mar 24 ', 6: '€121.00 ', 7: '€0.00 ', 8: '€0.00 ', 9: '€0.00 ', 10: 'IRE '}, 26: {1: '40043 ', 2: '4 ', 3: 'Hours ', 4: 'Mechanical Engineer ', 5: '18 Mar 24 ', 6: '€125.00 ', 7: '€500.00 ', 8: '€115.00 ', 9: '€615.00 ', 10: 'IRE '}, 27: {1: '40043 ', 2: '10 ', 3: 'Hours ', 4: 'Mechanical Engineer ', 5: '19 Mar 24 ', 6: '€156.00 ', 7: '€1,560.00 ', 8: '€358.80 ', 9: '€1,918.80 ', 10: 'IRE '}, 28: {1: '40043 ', 2: '4 ', 3: 'Hours ', 4: 'Mechanical Engineer ', 5: '20 Mar 24 ', 6: '€173.00 ', 7: '€692.00 ', 8: '€159.16 ', 9: '€851.16 ', 10: 'IRE '}, 29: {1: '40043 ', 2: '5 ', 3: 'Hours ', 4: 'Mechanical Engineer ', 5: '21 Mar 24 ', 6: '€172.00 ', 7: '€860.00 ', 8: '€197.80 ', 9: '€1,057.80 ', 10: 'IRE '}, 30: {1: '40043 ', 2: '5 ', 3: 'Hours ', 4: 'Mechanical Engineer ', 5: '22 Mar 24 ', 6: '€143.00 ', 7: '€715.00 ', 8: '€164.45 ', 9: '€879.45 ', 10: 'IRE '}, 31: {1: '40043 ', 2: '0 ', 3: 'Hours ', 4: 'Mechanical Engineer ', 5: '23 Mar 24 ', 6: '€117.00 ', 7: '€0.00 ', 8: '€0.00 ', 9: '€0.00 ', 10: 'IRE '}, 32: {1: '40043 ', 2: '0 ', 3: 'Hours ', 4: 'Mechanical Engineer ', 5: '24 Mar 24 ', 6: '€176.00 ', 7: '€0.00 ', 8: '€0.00 ', 9: '€0.00 ', 10: 'IRE '}, 33: {1: '40043 ', 2: '7 ', 3: 'Hours ', 4: 'Mechanical Engineer ', 5: '25 Mar 24 ', 6: '€150.00 ', 7: '€1,050.00 ', 8: '€241.50 ', 9: '€1,291.50 ', 10: 'IRE '}, 34: {1: '40043 ', 2: '4 ', 3: 'Hours ', 4: 'Mechanical Engineer ', 5: '26 Mar 24 ', 6: '€128.00 ', 7: '€512.00 ', 8: '€117.76 ', 9: '€629.76 ', 10: 'IRE '}, 35: {1: '40043 ', 2: '7 ', 3: 'Hours ', 4: 'Mechanical Engineer ', 5: '27 Mar 24 ', 6: '€170.00 ', 7: '€1,190.00 ', 8: '€273.70 ', 9: '€1,463.70 ', 10: 'IRE '}, 36: {1: '40043 ', 2: '9 ', 3: 'Hours ', 4: 'Mechanical Engineer ', 5: '28 Mar 24 ', 6: '€171.00 ', 7: '€1,539.00 ', 8: '€353.97 ', 9: '€1,892.97 ', 10: 'IRE '}, 37: {1: '40043 ', 2: '6 ', 3: 'Hours ', 4: 'Mechanical Engineer ', 5: '29 Mar 24 ', 6: '€153.00 ', 7: '€918.00 ', 8: '€211.14 ', 9: '€1,129.14 ', 10: 'IRE '}, 38: {1: '40043 ', 2: '0 ', 3: 'Hours ', 4: 'Mechanical Engineer ', 5: '30 Mar 24 ', 6: '€116.00 ', 7: '€0.00 ', 8: '€0.00 ', 9: '€0.00 ', 10: 'IRE '}, 39: {1: '40043 ', 2: '3 ', 3: 'Hours ', 4: 'Ground Worker ', 5: '2 Jan 24 ', 6: '€33.00 ', 7: '€99.00 ', 8: '€22.77 ', 9: '€121.77 ', 10: 'IRE '}, 40: {1: '40043 ', 2: '8 ', 3: 'Hours ', 4: 'Ground Worker ', 5: '3 Jan 24 ', 6: '€34.00 ', 7: '€272.00 ', 8: '€62.56 ', 9: '€334.56 ', 10: 'IRE '}, 41: {1: '40043 ', 2: '2 ', 3: 'Hours ', 4: 'Ground Worker ', 5: '4 Jan 24 ', 6: '€34.00 ', 7: '€68.00 ', 8: '€15.64 ', 9: '€83.64 ', 10: 'IRE '}, 42: {1: '40043 ', 2: '5 ', 3: 'Hours ', 4: 'Ground Worker ', 5: '5 Jan 24 ', 6: '€23.00 ', 7: '€115.00 ', 8: '€26.45 ', 9: '€141.45 ', 10: 'IRE '}, 43: {1: '40043 ', 2: '0 ', 3: 'Hours ', 4: 'Ground Worker ', 5: '6 Jan 24 ', 6: '€34.00 ', 7: '€0.00 ', 8: '€0.00 ', 9: '€0.00 ', 10: 'IRE '}, 44: {1: '40043 ', 2: '0 ', 3: 'Hours ', 4: 'Ground Worker ', 5: '7 Jan 24 ', 6: '€29.00 ', 7: '€0.00 ', 8: '€0.00 ', 9: '€0.00 ', 10: 'IRE '}, 45: {1: '40043 ', 2: '7 ', 3: 'Hours ', 4: 'Ground Worker ', 5: '8 Jan 24 ', 6: '€27.00 ', 7: '€189.00 ', 8: '€43.47 ', 9: '€232.47 ', 10: 'IRE '}, 46: {1: '40043 ', 2: '9 ', 3: 'Hours ', 4: 'Ground Worker ', 5: '9 Jan 24 ', 6: '€33.00 ', 7: '€297.00 ', 8: '€68.31 ', 9: '€365.31 ', 10: 'IRE '}, 47: {1: '40043 ', 2: '7 ', 3: 'Hours ', 4: 'Ground Worker ', 5: '10 Jan 24 ', 6: '€35.00 ', 7: '€245.00 ', 8: '€56.35 ', 9: '€301.35 ', 10: 'IRE '}, 48: {1: '40043 ', 2: '6 ', 3: 'Hours ', 4: 'Ground Worker ', 5: '11 Jan 24 ', 6: '€25.00 ', 7: '€150.00 ', 8: '€34.50 ', 9: '€184.50 ', 10: 'IRE '}, 49: {1: '40043 ', 2: '3 ', 3: 'Hours ', 4: 'Ground Worker ', 5: '12 Jan 24 ', 6: '€30.00 ', 7: '€90.00 ', 8: '€20.70 ', 9: '€110.70 ', 10: 'IRE '}, 50: {1: '40043 ', 2: '0 ', 3: 'Hours ', 4: 'Ground Worker ', 5: '13 Jan 24 ', 6: '€22.00 ', 7: '€0.00 ', 8: '€0.00 ', 9: '€0.00 ', 10: 'IRE '}, 51: {1: '40043 ', 2: '0 ', 3: 'Hours ', 4: 'Ground Worker ', 5: '14 Jan 24 ', 6: '€27.00 ', 7: '€0.00 ', 8: '€0.00 ', 9: '€0.00 ', 10: 'IRE '}, 52: {1: '40043 ', 2: '7 ', 3: 'Hours ', 4: 'Ground Worker ', 5: '15 Jan 24 ', 6: '€30.00 ', 7: '€210.00 ', 8: '€48.30 ', 9: '€258.30 ', 10: 'IRE '}, 53: {1: '40043 ', 2: '4 ', 3: 'Hours ', 4: 'Ground Worker ', 5: '16 Jan 24 ', 6: '€25.00 ', 7: '€100.00 ', 8: '€23.00 ', 9: '€123.00 ', 10: 'IRE '}, 54: {1: '40043 ', 2: '5 ', 3: 'Hours ', 4: 'Ground Worker ', 5: '17 Jan 24 ', 6: '€29.00 ', 7: '€145.00 ', 8: '€33.35 ', 9: '€178.35 ', 10: 'IRE '}}\n"
     ]
    }
   ],
   "source": [
    "\n",
    "response = extract_table_blocks('textract-ocr-2021', 'demo.pdf')\n",
    "blocks=response['Blocks']\n",
    "blocks_map = {}\n",
    "table_blocks = []\n",
    "    \n",
    "for block in blocks:\n",
    "        blocks_map[block['Id']] = block\n",
    "        if block['BlockType'] == \"TABLE\":\n",
    "            table_blocks.append(block)\n",
    "            \n",
    "for index, table in enumerate(table_blocks):\n",
    "        rows, scores = get_rows_columns_map(table, blocks_map)\n",
    "        \n",
    "\n",
    "print(rows) \n"
   ]
  },
  {
   "cell_type": "code",
   "execution_count": 73,
   "metadata": {},
   "outputs": [
    {
     "name": "stdout",
     "output_type": "stream",
     "text": [
      "Table: Table_Table_Demo\n",
      "\n",
      "Item ,Quantity ,Unit ,Description ,Transaction Date ,Unit Excluding VAT ,TOTAL EXCLUDING VAT ,VAT ,Total Including VAT ,VAT CODE ,\n",
      "40043 ,4 ,Hours ,Mechanical Engineer ,23 Feb 24 ,€140.00 ,€560.00 ,€128.80 ,€688.80 ,IRE ,\n",
      "40043 ,0 ,Hours ,Mechanical Engineer ,24 Feb 24 ,€160.00 ,€0.00 ,€0.00 ,€0.00 ,IRE ,\n",
      "40043 ,0 ,Hours ,Mechanical Engineer ,25 Feb 24 ,€106.00 ,€0.00 ,€0.00 ,€0.00 ,IRE ,\n",
      "40043 ,5 ,Hours ,Mechanical Engineer ,26 Feb 24 ,€139.00 ,€695.00 ,€159.85 ,€854.85 ,IRE ,\n",
      "40043 ,5 ,Hours ,Mechanical Engineer ,27 Feb 24 ,€159.00 ,€795.00 ,€182.85 ,€977.85 ,IRE ,\n",
      "40043 ,2 ,Hours ,Mechanical Engineer ,28 Feb 24 ,€155.00 ,€310.00 ,€71.30 ,€381.30 ,IRE ,\n",
      "40043 ,5 ,Hours ,Mechanical Engineer ,29 Feb 24 ,€162.00 ,€810.00 ,€186.30 ,€996.30 ,IRE ,\n",
      "40043 ,4 ,Hours ,Mechanical Engineer ,1 Mar 24 ,€162.00 ,€648.00 ,€149.04 ,€797.04 ,IRE ,\n",
      "40043 ,0 ,Hours ,Mechanical Engineer ,2 24 ,€154.00 ,€0.00 ,€0.00 ,€0.00 ,IRE ,\n",
      "40043 ,0 ,Hours ,Mechanical Engineer ,3 Mar 24 ,€113.00 ,€0.00 ,€0.00 ,€0.00 ,IRE ,\n",
      "40043 ,3 ,Hours ,Mechanical Engineer ,4 Mar 24 ,€146.00 ,€438.00 ,€100.74 ,€538.74 ,IRE ,\n",
      "40043 ,7 ,Hours ,Mechanical Engineer ,5 Mar 24 ,€115.00 ,€805.00 ,€185.15 ,€990.15 ,IRE ,\n",
      "40043 ,10 ,Hours ,Mechanical Engineer ,6 Mar 24 ,€133.00 ,€1,330.00 ,€305.90 ,€1,635.90 ,IRE ,\n",
      "40043 ,2 ,Hours ,Mechanical Engineer ,7 Mar 24 ,€106.00 ,€212.00 ,€48.76 ,€260.76 ,IRE ,\n",
      "40043 ,10 ,Hours ,Mechanical Engineer ,8 Mar 24 ,€132.00 ,€1,320.00 ,€303.60 ,€1,623.60 ,IRE ,\n",
      "40043 ,0 ,Hours ,Mechanical Engineer ,9 Mar 24 ,€165.00 ,€0.00 ,€0.00 ,€0.00 ,IRE ,\n",
      "40043 ,0 ,Hours ,Mechanical Engineer ,10 Mar 24 ,€165.00 ,€0.00 ,€0.00 ,€0.00 ,IRE ,\n",
      "40043 ,6 ,Hours ,Mechanical Engineer ,11 Mar 24 ,€126.00 ,€756.00 ,€173.88 ,€929.88 ,IRE ,\n",
      "40043 ,9 ,Hours ,Mechanical Engineer ,12 Mar 24 ,€118.00 ,€1,062.00 ,€244.26 ,€1,306.26 ,IRE ,\n",
      "40043 ,5 ,Hours ,Mechanical Engineer ,13 Mar 24 ,€180.00 ,€900.00 ,€207.00 ,€1,107.00 ,IRE ,\n",
      "40043 ,10 ,Hours ,Mechanical Engineer ,14 Mar 24 ,€163.00 ,€1,630.00 ,€374.90 ,€2,004.90 ,IRE ,\n",
      "40043 ,8 ,Hours ,Mechanical Engineer ,15 Mar 24 ,€136.00 ,€1,088.00 ,€250.24 ,€1,338.24 ,IRE ,\n",
      "40043 ,0 ,Hours ,Mechanical Engineer ,16 Mar 24 ,€164.00 ,€0.00 ,€0.00 ,€0.00 ,IRE ,\n",
      "40043 ,0 ,Hours ,Mechanical Engineer ,17 Mar 24 ,€121.00 ,€0.00 ,€0.00 ,€0.00 ,IRE ,\n",
      "40043 ,4 ,Hours ,Mechanical Engineer ,18 Mar 24 ,€125.00 ,€500.00 ,€115.00 ,€615.00 ,IRE ,\n",
      "40043 ,10 ,Hours ,Mechanical Engineer ,19 Mar 24 ,€156.00 ,€1,560.00 ,€358.80 ,€1,918.80 ,IRE ,\n",
      "40043 ,4 ,Hours ,Mechanical Engineer ,20 Mar 24 ,€173.00 ,€692.00 ,€159.16 ,€851.16 ,IRE ,\n",
      "40043 ,5 ,Hours ,Mechanical Engineer ,21 Mar 24 ,€172.00 ,€860.00 ,€197.80 ,€1,057.80 ,IRE ,\n",
      "40043 ,5 ,Hours ,Mechanical Engineer ,22 Mar 24 ,€143.00 ,€715.00 ,€164.45 ,€879.45 ,IRE ,\n",
      "40043 ,0 ,Hours ,Mechanical Engineer ,23 Mar 24 ,€117.00 ,€0.00 ,€0.00 ,€0.00 ,IRE ,\n",
      "40043 ,0 ,Hours ,Mechanical Engineer ,24 Mar 24 ,€176.00 ,€0.00 ,€0.00 ,€0.00 ,IRE ,\n",
      "40043 ,7 ,Hours ,Mechanical Engineer ,25 Mar 24 ,€150.00 ,€1,050.00 ,€241.50 ,€1,291.50 ,IRE ,\n",
      "40043 ,4 ,Hours ,Mechanical Engineer ,26 Mar 24 ,€128.00 ,€512.00 ,€117.76 ,€629.76 ,IRE ,\n",
      "40043 ,7 ,Hours ,Mechanical Engineer ,27 Mar 24 ,€170.00 ,€1,190.00 ,€273.70 ,€1,463.70 ,IRE ,\n",
      "40043 ,9 ,Hours ,Mechanical Engineer ,28 Mar 24 ,€171.00 ,€1,539.00 ,€353.97 ,€1,892.97 ,IRE ,\n",
      "40043 ,6 ,Hours ,Mechanical Engineer ,29 Mar 24 ,€153.00 ,€918.00 ,€211.14 ,€1,129.14 ,IRE ,\n",
      "40043 ,0 ,Hours ,Mechanical Engineer ,30 Mar 24 ,€116.00 ,€0.00 ,€0.00 ,€0.00 ,IRE ,\n",
      "40043 ,3 ,Hours ,Ground Worker ,2 Jan 24 ,€33.00 ,€99.00 ,€22.77 ,€121.77 ,IRE ,\n",
      "40043 ,8 ,Hours ,Ground Worker ,3 Jan 24 ,€34.00 ,€272.00 ,€62.56 ,€334.56 ,IRE ,\n",
      "40043 ,2 ,Hours ,Ground Worker ,4 Jan 24 ,€34.00 ,€68.00 ,€15.64 ,€83.64 ,IRE ,\n",
      "40043 ,5 ,Hours ,Ground Worker ,5 Jan 24 ,€23.00 ,€115.00 ,€26.45 ,€141.45 ,IRE ,\n",
      "40043 ,0 ,Hours ,Ground Worker ,6 Jan 24 ,€34.00 ,€0.00 ,€0.00 ,€0.00 ,IRE ,\n",
      "40043 ,0 ,Hours ,Ground Worker ,7 Jan 24 ,€29.00 ,€0.00 ,€0.00 ,€0.00 ,IRE ,\n",
      "40043 ,7 ,Hours ,Ground Worker ,8 Jan 24 ,€27.00 ,€189.00 ,€43.47 ,€232.47 ,IRE ,\n",
      "40043 ,9 ,Hours ,Ground Worker ,9 Jan 24 ,€33.00 ,€297.00 ,€68.31 ,€365.31 ,IRE ,\n",
      "40043 ,7 ,Hours ,Ground Worker ,10 Jan 24 ,€35.00 ,€245.00 ,€56.35 ,€301.35 ,IRE ,\n",
      "40043 ,6 ,Hours ,Ground Worker ,11 Jan 24 ,€25.00 ,€150.00 ,€34.50 ,€184.50 ,IRE ,\n",
      "40043 ,3 ,Hours ,Ground Worker ,12 Jan 24 ,€30.00 ,€90.00 ,€20.70 ,€110.70 ,IRE ,\n",
      "40043 ,0 ,Hours ,Ground Worker ,13 Jan 24 ,€22.00 ,€0.00 ,€0.00 ,€0.00 ,IRE ,\n",
      "40043 ,0 ,Hours ,Ground Worker ,14 Jan 24 ,€27.00 ,€0.00 ,€0.00 ,€0.00 ,IRE ,\n",
      "40043 ,7 ,Hours ,Ground Worker ,15 Jan 24 ,€30.00 ,€210.00 ,€48.30 ,€258.30 ,IRE ,\n",
      "40043 ,4 ,Hours ,Ground Worker ,16 Jan 24 ,€25.00 ,€100.00 ,€23.00 ,€123.00 ,IRE ,\n",
      "40043 ,5 ,Hours ,Ground Worker ,17 Jan 24 ,€29.00 ,€145.00 ,€33.35 ,€178.35 ,IRE ,\n",
      "\n"
     ]
    }
   ],
   "source": [
    "table_id = 'Table_' + str(\"Table_Demo\")\n",
    "csv = 'Table: {0}\\n\\n'.format(table_id)\n",
    "\n",
    "for row_index, cols in rows.items():\n",
    "        for col_index, text in cols.items():\n",
    "            col_indices = len(cols.items())\n",
    "            csv += '{}'.format(text) + \",\"\n",
    "        csv += '\\n'\n",
    "        \n",
    "\n",
    "print(csv)\n"
   ]
  },
  {
   "cell_type": "code",
   "execution_count": 78,
   "metadata": {},
   "outputs": [],
   "source": [
    "import sys\n",
    "\n",
    "output_file = os.path.join(\"C:\\\\Users\\\\abhin\\\\OneDrive\\\\Documents\\\\Optab\", 'demo_invoice.csv')\n",
    "\n",
    "\n",
    "# Write the file to the custom directory\n",
    "with open(output_file, \"wt\") as fout:\n",
    "    fout.write(csv)"
   ]
  },
  {
   "cell_type": "code",
   "execution_count": 77,
   "metadata": {},
   "outputs": [
    {
     "data": {
      "text/plain": [
       "'c:\\\\Users\\\\abhin\\\\AppData\\\\Local\\\\Programs\\\\Microsoft VS Code'"
      ]
     },
     "execution_count": 77,
     "metadata": {},
     "output_type": "execute_result"
    }
   ],
   "source": []
  }
 ],
 "metadata": {
  "kernelspec": {
   "display_name": "Python 3",
   "language": "python",
   "name": "python3"
  },
  "language_info": {
   "codemirror_mode": {
    "name": "ipython",
    "version": 3
   },
   "file_extension": ".py",
   "mimetype": "text/x-python",
   "name": "python",
   "nbconvert_exporter": "python",
   "pygments_lexer": "ipython3",
   "version": "3.11.9"
  }
 },
 "nbformat": 4,
 "nbformat_minor": 2
}
